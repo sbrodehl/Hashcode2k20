{
 "cells": [
  {
   "cell_type": "code",
   "execution_count": 1,
   "metadata": {},
   "outputs": [],
   "source": [
    "from solver.parsing import *"
   ]
  },
  {
   "cell_type": "code",
   "execution_count": 2,
   "metadata": {},
   "outputs": [],
   "source": [
    "test = parse_input(\"input/a_example.txt\")"
   ]
  },
  {
   "cell_type": "code",
   "execution_count": 3,
   "metadata": {},
   "outputs": [
    {
     "data": {
      "text/plain": [
       "{'num_books': 6,\n",
       " 'num_libs': 2,\n",
       " 'num_days': 7,\n",
       " 'book_worth': [1, 2, 3, 6, 5, 4],\n",
       " 'libs': [{'num_books': 5,\n",
       "   'signup_time': 2,\n",
       "   'books_per_day': 2,\n",
       "   'books': {0, 1, 2, 3, 4}},\n",
       "  {'num_books': 4,\n",
       "   'signup_time': 3,\n",
       "   'books_per_day': 1,\n",
       "   'books': {0, 2, 3, 5}}]}"
      ]
     },
     "execution_count": 3,
     "metadata": {},
     "output_type": "execute_result"
    }
   ],
   "source": [
    "test"
   ]
  },
  {
   "cell_type": "code",
   "execution_count": 12,
   "metadata": {},
   "outputs": [
    {
     "name": "stdout",
     "output_type": "stream",
     "text": [
      "a_example\n",
      "num_books 6\n",
      "num_libs 2\n",
      "num_days 7\n",
      "---------------\n",
      "b_read_on\n",
      "num_books 100000\n",
      "num_libs 100\n",
      "num_days 1000\n",
      "---------------\n",
      "c_incunabula\n",
      "num_books 100000\n",
      "num_libs 10000\n",
      "num_days 100000\n",
      "---------------\n",
      "d_tough_choices\n",
      "num_books 78600\n",
      "num_libs 30000\n",
      "num_days 30001\n",
      "---------------\n",
      "e_so_many_books\n",
      "num_books 100000\n",
      "num_libs 1000\n",
      "num_days 200\n",
      "---------------\n",
      "f_libraries_of_the_world\n",
      "num_books 100000\n",
      "num_libs 1000\n",
      "num_days 700\n",
      "---------------\n"
     ]
    }
   ],
   "source": [
    "for filen in [\"a_example\",\"b_read_on\",\"c_incunabula\",\"d_tough_choices\",\"e_so_many_books\",\"f_libraries_of_the_world\"]:\n",
    "    print(filen)\n",
    "    testb = parse_input(\"input/\"+filen+\".txt\")\n",
    "    for key in testb.keys():\n",
    "        if key!=\"book_worth\" and key!=\"libs\":\n",
    "            print(key,testb[key])\n",
    "    print(\"---------------\")"
   ]
  },
  {
   "cell_type": "code",
   "execution_count": 9,
   "metadata": {},
   "outputs": [
    {
     "name": "stdout",
     "output_type": "stream",
     "text": [
      "num_books 100000\n",
      "num_libs 10000\n",
      "num_days 100000\n"
     ]
    }
   ],
   "source": [
    "\n",
    "#print(testb[\"num_books\"])"
   ]
  },
  {
   "cell_type": "code",
   "execution_count": null,
   "metadata": {},
   "outputs": [],
   "source": []
  }
 ],
 "metadata": {
  "kernelspec": {
   "display_name": "Python 3",
   "language": "python",
   "name": "python3"
  },
  "language_info": {
   "codemirror_mode": {
    "name": "ipython",
    "version": 3
   },
   "file_extension": ".py",
   "mimetype": "text/x-python",
   "name": "python",
   "nbconvert_exporter": "python",
   "pygments_lexer": "ipython3",
   "version": "3.6.9"
  }
 },
 "nbformat": 4,
 "nbformat_minor": 4
}
